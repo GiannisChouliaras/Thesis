{
 "cells": [
  {
   "cell_type": "markdown",
   "metadata": {},
   "source": [
    "# Using the fully connected layers\n",
    "\n",
    "calculate the distance of the vectors extracted by the fully connected layers from VGG and RESNET"
   ]
  },
  {
   "cell_type": "code",
   "execution_count": 1,
   "metadata": {},
   "outputs": [],
   "source": [
    "import numpy as np\n",
    "import torchvision\n",
    "import glob\n",
    "import pandas as pd\n",
    "import os\n",
    "\n",
    "from PIL import Image\n",
    "from typing import Callable\n",
    "from scipy.spatial import distance"
   ]
  },
  {
   "cell_type": "markdown",
   "metadata": {},
   "source": [
    "#### Import the three models, register hooks on their first fully connected layers"
   ]
  },
  {
   "cell_type": "code",
   "execution_count": 2,
   "metadata": {},
   "outputs": [
    {
     "data": {
      "text/plain": [
       "<torch.utils.hooks.RemovableHandle at 0x19aea20c340>"
      ]
     },
     "execution_count": 2,
     "metadata": {},
     "output_type": "execute_result"
    }
   ],
   "source": [
    "# import the models\n",
    "vgg16 = torchvision.models.vgg16(pretrained=True)\n",
    "vgg19 = torchvision.models.vgg19(pretrained=True)\n",
    "alexnet = torchvision.models.alexnet(pretrained=True)\n",
    "\n",
    "features = {}\n",
    "def reg_hook(layer: int) -> Callable:\n",
    "    def hook(model, input, output):\n",
    "        features[layer] = output.detach()\n",
    "    return hook\n",
    "    \n",
    "\n",
    "vgg16.classifier[0].register_forward_hook(reg_hook(\"feats\"))\n",
    "vgg19.classifier[0].register_forward_hook(reg_hook(\"feats\"))\n",
    "alexnet.classifier[1].register_forward_hook(reg_hook(\"feats\"))\n"
   ]
  },
  {
   "cell_type": "code",
   "execution_count": 3,
   "metadata": {},
   "outputs": [],
   "source": [
    "# transform data\n",
    "transform = torchvision.transforms.Compose([\n",
    "    torchvision.transforms.Resize(224),\n",
    "    torchvision.transforms.CenterCrop(224),\n",
    "    torchvision.transforms.ToTensor(),\n",
    "    torchvision.transforms.Normalize(\n",
    "        mean=[0.485, 0.456, 0.406], std=[0.229, 0.224, 0.225]\n",
    "    ),\n",
    "])\n",
    "\n",
    "\n",
    "# path for the folder that contains the images\n",
    "path = \"../data/preprocess/\"\n",
    "cases = [f.path[19:] for f in os.scandir(path) if f.is_dir()]\n",
    "\n",
    "# function to open images and return them as a list\n",
    "def open_images(path: str, case: str, type: str) -> list:\n",
    "    lst = []\n",
    "    for filename in glob.glob(path + case + \"/\" + type + \"/*.JPG\"):\n",
    "        lst.append(Image.open(filename).convert(\"RGB\"))\n",
    "    return lst"
   ]
  },
  {
   "cell_type": "code",
   "execution_count": 4,
   "metadata": {},
   "outputs": [],
   "source": [
    "def extract_features(model: torchvision.models, transform: Callable, images: list) -> list:\n",
    "\n",
    "    # function to normalize the vector\n",
    "    def normalize(A: np.ndarray) -> np.ndarray:\n",
    "        norm = np.linalg.norm(A)\n",
    "        return A / norm\n",
    "\n",
    "    embeddings = []\n",
    "    \n",
    "    # iterate through all images and save the features in the list\n",
    "    for image in images:\n",
    "        x = transform(image).unsqueeze(0).to(\"cpu\")\n",
    "        _ = model(x)\n",
    "\n",
    "        embeddings.append(normalize(features[\"feats\"].cpu().numpy()))\n",
    "        \n",
    "    return embeddings"
   ]
  },
  {
   "cell_type": "code",
   "execution_count": 5,
   "metadata": {},
   "outputs": [],
   "source": [
    "def cosine_similarity(A: np.ndarray, B: np.ndarray) -> tuple:\n",
    "    return np.dot(A, B) / (np.linalg.norm(A) * np.linalg.norm(B))\n",
    "\n",
    "def Average(lst):\n",
    "    return sum(lst) / len(lst)\n",
    "\n",
    "def distance_metric(embeddings: list) -> float:\n",
    "    A = embeddings[0].flatten()\n",
    "    B = embeddings[1].flatten()\n",
    "    C = embeddings[2].flatten()\n",
    "\n",
    "    c1 = cosine_similarity(A, B)\n",
    "    c2 = cosine_similarity(A, C)\n",
    "\n",
    "    def transform_dist_to_sim(x: float) -> float:\n",
    "        return 1 / (1 + x)\n",
    "\n",
    "    e1 = transform_dist_to_sim(distance.euclidean(A, B))\n",
    "    e2 = transform_dist_to_sim(distance.euclidean(A, C))\n",
    "\n",
    "    return (Average([c1, c2]), Average([e1, e2]))"
   ]
  },
  {
   "cell_type": "markdown",
   "metadata": {},
   "source": [
    "### Using vgg16\n",
    "Get the results using vgg16"
   ]
  },
  {
   "cell_type": "code",
   "execution_count": 6,
   "metadata": {},
   "outputs": [],
   "source": [
    "\n",
    "for case in cases:\n",
    "    \n",
    "    images_before_treatment = open_images(path=path, case=case, type=\"BEFORE\")\n",
    "    images_after_treatment = open_images(path=path, case=case, type=\"AFTER\")\n",
    "\n",
    "    vgg16_before_embeddings = extract_features(model=vgg16, transform=transform, images=images_before_treatment)\n",
    "    vgg16_after_embeddings = extract_features(model=vgg16, transform=transform, images=images_after_treatment)\n",
    "\n",
    "    # get the distances\n",
    "    before_vgg16_cos, before_vgg16_euc = distance_metric(vgg16_before_embeddings)\n",
    "    after_vgg16_cos, after_vgg16_euc = distance_metric(vgg16_after_embeddings)\n",
    "\n",
    "    # get the distance of their wounds only\n",
    "    vgg16_wound_similarity = cosine_similarity(vgg16_before_embeddings[0].flatten(), vgg16_after_embeddings[0].flatten())\n",
    "\n",
    "#     ## VGG19\n",
    "\n",
    "#     vgg19_before_embeddings = extract_features(model=vgg19, transform=transform, images=images_before_treatment)\n",
    "#     vgg19_after_embeddings = extract_features(model=vgg19, transform=transform, images=images_after_treatment)\n",
    "\n",
    "#     # get the distances\n",
    "#     before_vgg19_cos, before_vgg19_euc = distance_metric(vgg19_before_embeddings)\n",
    "#     after_vgg19_cos, after_vgg19_euc = distance_metric(vgg19_after_embeddings)\n",
    "\n",
    "#     # get the distance of their wounds only\n",
    "#     vgg19_wound_similarity = cosine_similarity(vgg19_before_embeddings[0].flatten(), vgg19_after_embeddings[0].flatten())\n",
    "\n",
    "#     ## ALEXNET\n",
    "#     alexnet_before_embeddings = extract_features(model=alexnet, transform=transform, images=images_before_treatment)\n",
    "#     alexnet_after_embeddings = extract_features(model=alexnet, transform=transform, images=images_after_treatment)\n",
    "\n",
    "#     # get the distances\n",
    "#     before_alexnet_cos, before_alexnet_euc = distance_metric(alexnet_before_embeddings)\n",
    "#     after_alexnet_cos, after_alexnet_euc = distance_metric(alexnet_after_embeddings)\n",
    "\n",
    "#     # get the distance of their wounds only\n",
    "#     alexnet_wound_similarity = cosine_similarity(alexnet_before_embeddings[0].flatten(), alexnet_after_embeddings[0].flatten())\n",
    "\n",
    "    data = []\n",
    "    data.append((\"vgg16\", round(before_vgg16_cos,3), round(after_vgg16_cos, 3)))\n",
    "#     data.append((\"vgg16\", round(before_vgg16_cos,3), round(after_vgg16_cos, 3), round(before_vgg16_euc, 3), round(after_vgg16_euc, 3), round(vgg16_wound_similarity, 3)))\n",
    "#     data.append((\"vgg19\", round(before_vgg19_cos,3), round(after_vgg19_cos, 3), round(before_vgg19_euc, 3), round(after_vgg19_euc, 3), round(vgg19_wound_similarity, 3)))\n",
    "#     data.append((\"alexnet\", round(before_alexnet_cos,3), round(after_alexnet_cos, 3), round(before_alexnet_euc, 3), round(after_alexnet_euc, 3), round(alexnet_wound_similarity, 3)))\n",
    "\n",
    "#     df = pd.DataFrame(data, columns=['Net', 'cos sim (before)', 'cos sim (after)', 'euclidean (before)', 'euclidean (after)', 'cosine of the wound'])\n",
    "    df = pd.DataFrame(data, columns=['Net', 'cos sim (before)', 'cos sim (after)'])\n",
    "    df.to_csv(f'../csv/{case}/{case}_fully_connected.csv', index=False)\n"
   ]
  },
  {
   "cell_type": "markdown",
   "metadata": {},
   "source": [
    "### Using vgg19"
   ]
  },
  {
   "cell_type": "code",
   "execution_count": 7,
   "metadata": {},
   "outputs": [],
   "source": [
    "# vgg19_before_embeddings = extract_features(model=vgg19, transform=transform, images=images_before_treatment)\n",
    "# vgg19_after_embeddings = extract_features(model=vgg19, transform=transform, images=images_after_treatment)\n",
    "\n",
    "# # get the distances\n",
    "# before_vgg19_cos, before_vgg19_euc = distance_metric(vgg19_before_embeddings)\n",
    "# after_vgg19_cos, after_vgg19_euc = distance_metric(vgg19_after_embeddings)\n",
    "\n",
    "# # get the distance of their wounds only\n",
    "# vgg19_wound_similarity = cosine_similarity(vgg19_before_embeddings[0].flatten(), vgg19_after_embeddings[0].flatten())"
   ]
  },
  {
   "cell_type": "markdown",
   "metadata": {},
   "source": [
    "### Using AlexNet"
   ]
  },
  {
   "cell_type": "code",
   "execution_count": 8,
   "metadata": {},
   "outputs": [],
   "source": [
    "# alexnet_before_embeddings = extract_features(model=alexnet, transform=transform, images=images_before_treatment)\n",
    "# alexnet_after_embeddings = extract_features(model=alexnet, transform=transform, images=images_after_treatment)\n",
    "\n",
    "# # get the distances\n",
    "# before_alexnet_cos, before_alexnet_euc = distance_metric(alexnet_before_embeddings)\n",
    "# after_alexnet_cos, after_alexnet_euc = distance_metric(alexnet_after_embeddings)\n",
    "\n",
    "# # get the distance of their wounds only\n",
    "# alexnet_wound_similarity = cosine_similarity(alexnet_before_embeddings[0].flatten(), alexnet_after_embeddings[0].flatten())"
   ]
  },
  {
   "cell_type": "code",
   "execution_count": 9,
   "metadata": {},
   "outputs": [],
   "source": [
    "# data = []\n",
    "# data.append((\"vgg16\", round(before_vgg16_cos,3), round(after_vgg16_cos, 3), round(before_vgg16_euc, 3), round(after_vgg16_euc, 3), round(vgg16_wound_similarity, 3)))\n",
    "# data.append((\"vgg19\", round(before_vgg19_cos,3), round(after_vgg19_cos, 3), round(before_vgg19_euc, 3), round(after_vgg19_euc, 3), round(vgg19_wound_similarity, 3)))\n",
    "# data.append((\"alexnet\", round(before_alexnet_cos,3), round(after_alexnet_cos, 3), round(before_alexnet_euc, 3), round(after_alexnet_euc, 3), round(alexnet_wound_similarity, 3)))\n",
    "\n",
    "# df = pd.DataFrame(data, columns=['Net', 'cos sim (before)', 'cos sim (after)', 'euclidean (before)', 'euclidean (after)', 'cosine of the wound'])\n",
    "# df.to_csv(f'../csv/{case}/{case}_fully_connected.csv', index=False)"
   ]
  }
 ],
 "metadata": {
  "interpreter": {
   "hash": "9dc8a8809d9b700ddb2236033ba8ac530c2c16b40d8653168a12c5dc60845d01"
  },
  "kernelspec": {
   "display_name": "Python 3 (ipykernel)",
   "language": "python",
   "name": "python3"
  },
  "language_info": {
   "codemirror_mode": {
    "name": "ipython",
    "version": 3
   },
   "file_extension": ".py",
   "mimetype": "text/x-python",
   "name": "python",
   "nbconvert_exporter": "python",
   "pygments_lexer": "ipython3",
   "version": "3.9.10"
  }
 },
 "nbformat": 4,
 "nbformat_minor": 2
}
