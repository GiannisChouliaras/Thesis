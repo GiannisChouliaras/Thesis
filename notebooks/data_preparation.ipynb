{
 "cells": [
  {
   "cell_type": "markdown",
   "id": "4e3d494a",
   "metadata": {},
   "source": [
    "# Extracting arrays"
   ]
  },
  {
   "cell_type": "code",
   "execution_count": 1,
   "id": "5a5874bf",
   "metadata": {},
   "outputs": [],
   "source": [
    "import numpy as np\n",
    "import math"
   ]
  },
  {
   "cell_type": "code",
   "execution_count": 2,
   "id": "ca64cdaf",
   "metadata": {},
   "outputs": [],
   "source": [
    "doctors = [7, 6, 5, 8, 7, 6, 6, 8, 5, 6, 5, 6, 3, 8, 7, 6, 6, 4, 8, 8, 3, 4, 7, 8, 7, 4, 6, 6, 2, 3, 3, 4, 4, 2, 6, 2, 2, 4, 2, 2, 4, 3, 3, 2, 3, 2, 2, 2, 2, 3, 5, 3, 3, 4]\n",
    "layer5  = [0.66, 0.54, 0.69, 0.28, 0.35, 0.30, 0.29, 0.01, 0.37, 0.54, 0.30, 0.25, 0.76, 0.21, 0.19, 0.40, 0.48, 0.58, 0.25, 0.22, 0.84, 0.57, 0.37, 0.29, 0.37, 0.62, 0.44, 0.63, 0.58, 0.58, 0.56, 0.68, 0.69, 0.83, 0.61, 0.83, 0.70, 0.66, 0.75, 0.76, 0.39, 0.58, 0.51, 0.78, 0.83, 0.65, 0.58, 0.63, 0.88, 0.76, 0.45, 0.51, 0.52, 0.73]\n",
    "layer28 = [0.28, 0.25, 0.27, 0.19, 0.21, 0.18, 0.13, 0.11, 0.26, 0.20, 0.13, 0.18, 0.35, 0.15, 0.18, 0.29, 0.19, 0.35, 0.13, 0.16, 0.60, 0.30, 0.18, 0.21, 0.15, 0.25, 0.16, 0.32, 0.33, 0.25, 0.31, 0.41, 0.39, 0.44, 0.31, 0.41, 0.32, 0.37, 0.49, 0.42, 0.20, 0.33, 0.27, 0.53, 0.40, 0.30, 0.37, 0.36, 0.60, 0.45, 0.20, 0.17, 0.33, 0.31]\n",
    "ful_con = [0.60, 0.68, 0.64, 0.42, 0.51, 0.52, 0.44, 0.38, 0.64, 0.66, 0.45, 0.49, 0.78, 0.47, 0.53, 0.68, 0.53, 0.74, 0.44, 0.47, 0.90, 0.68, 0.50, 0.53, 0.47, 0.65, 0.45, 0.73, 0.74, 0.69, 0.76, 0.78, 0.72, 0.88, 0.72, 0.82, 0.72, 0.80, 0.88, 0.82, 0.57, 0.74, 0.66, 0.89, 0.81, 0.72, 0.79, 0.81, 0.90, 0.83, 0.57, 0.53, 0.80, 0.75]\n",
    "yiq     = [0.30, 0.24, 0.11, 0.64, 0.61, 0.39, 0.48, 0.36, 0.39, 0.23, 0.34, 0.52, 0.03, 0.39, 0.73, 0.26, 0.62, 0.12, 0.42, 0.51, 0.15, 0.07, 0.36, 0.64, 0.40, 0.15, 0.16, 0.12, 0.07, 0.08, 0.19, 0.10, 0.20, 0.04, 0.40, 0.09, 0.04, 0.11, 0.13, 0.11, 0.13, 0.01, 0.18, 0.05, 0.14, 0.07, 0.07, 0.04, 0.05, 0.05, 0.15, 0.18, 0.17, 0.17]"
   ]
  },
  {
   "cell_type": "code",
   "execution_count": 3,
   "id": "3c70ff97",
   "metadata": {},
   "outputs": [],
   "source": [
    "texture = [3, 4, 3, 4, 3, 3, 3, 4, 2, 3, 3, 3, 2, 4, 3, 3, 3, 2, 4, 4, 1, 3, 3, 4, 3, 2, 3, 2, 1, 2, 1, 2, 2, 1, 2, 1, 1, 2, 1, 1, 2, 2, 2, 1, 1, 1, 1, 1, 1, 1, 3, 1, 1, 2]\n",
    "colour  = [4, 2, 2, 4, 4, 3, 3, 4, 3, 3, 2, 3, 1, 4, 4, 3, 3, 2, 4, 4, 2, 1, 4, 4, 4, 2, 3, 4, 1, 1, 2, 2, 2, 1, 4, 1, 1, 2, 1, 1, 2, 1, 1, 1, 2, 1, 1, 1, 1, 2, 2, 2, 2, 2]"
   ]
  },
  {
   "cell_type": "code",
   "execution_count": 4,
   "id": "fbe0fab8",
   "metadata": {},
   "outputs": [],
   "source": [
    "# zip the inputs for the 3 input regressors.\n",
    "inputs = list(zip(layer5, ful_con, yiq))\n",
    "\n",
    "# zip the inputs for the texture\n",
    "inputs_for_texture = list(zip(layer5, ful_con))\n",
    "\n",
    "# make inputs as arrays\n",
    "data = np.array(inputs)\n",
    "data_texture = np.array(inputs_for_texture)\n",
    "data_yiq = np.array(yiq)\n",
    "\n",
    "# transform targets as arrays\n",
    "targets = np.array(doctors)\n",
    "texture_target = np.array(texture)\n",
    "colour_target  = np.array(colour)\n",
    "\n",
    "# store them\n",
    "np.save(\"../data/arrays/data.npy\", data)\n",
    "np.save(\"../data/arrays/data_texture.npy\", data_texture)\n",
    "np.save(\"../data/arrays/data_yiq.npy\", data_yiq)\n",
    "\n",
    "np.save(\"../data/arrays/targets.npy\", targets)\n",
    "np.save(\"../data/arrays/texture_target.npy\", texture_target)\n",
    "np.save(\"../data/arrays/colour_target.npy\", colour_target)"
   ]
  }
 ],
 "metadata": {
  "kernelspec": {
   "display_name": "Python (thesis)",
   "language": "python",
   "name": "venv"
  },
  "language_info": {
   "codemirror_mode": {
    "name": "ipython",
    "version": 3
   },
   "file_extension": ".py",
   "mimetype": "text/x-python",
   "name": "python",
   "nbconvert_exporter": "python",
   "pygments_lexer": "ipython3",
   "version": "3.9.10"
  }
 },
 "nbformat": 4,
 "nbformat_minor": 5
}
