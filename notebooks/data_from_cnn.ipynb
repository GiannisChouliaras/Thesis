{
 "cells": [
  {
   "cell_type": "markdown",
   "id": "4f61d641",
   "metadata": {},
   "source": [
    "# Results from CNNs\n",
    "\n",
    "after the execution of the vgg16_intermediate and fully_connected notebook, gather all the results in an excel"
   ]
  },
  {
   "cell_type": "code",
   "execution_count": 1,
   "id": "8ccdac61",
   "metadata": {},
   "outputs": [],
   "source": [
    "import pandas as pd\n",
    "import os\n",
    "import glob"
   ]
  },
  {
   "cell_type": "code",
   "execution_count": 2,
   "id": "2b65ceff",
   "metadata": {},
   "outputs": [
    {
     "name": "stdout",
     "output_type": "stream",
     "text": [
      "0.791\n"
     ]
    }
   ],
   "source": [
    "# final dict to create the dataset later\n",
    "dct = {}\n",
    "# list to keep the layer 30 results\n",
    "layer30_b = []\n",
    "layer30_a = []\n",
    "# list to keep the layer 11 results\n",
    "layer11_b = []\n",
    "layer11_a = []\n",
    "# list to keep the fully connected layer results\n",
    "fully_connected_b = []\n",
    "fully_connected_a = []\n",
    "# list to keep the cases names\n",
    "cases_df = []\n",
    "\n",
    "path = '../csv/'\n",
    "cases = [f.path[7:] for f in os.scandir(path) if f.is_dir()]\n",
    "\n",
    "conn = pd.read_csv(path + cases[0] + f'/{cases[0]}_fully_connected.csv')\n",
    "cos = pd.read_csv(path + cases[0] + f'/{cases[0]}_vgg16_cosine.csv')\n",
    "\n",
    "for case in cases:\n",
    "    conn = pd.read_csv(path + case + f'/{case}_fully_connected.csv')\n",
    "    cos = pd.read_csv(path + case + f'/{case}_vgg16_cosine.csv')\n",
    "    \n",
    "    layer30_b.append(cos.iloc[1, 2])\n",
    "    layer30_a.append(cos.iloc[1, 3])\n",
    "    layer11_b.append(cos.iloc[2, 2])\n",
    "    layer11_a.append(cos.iloc[2, 3])\n",
    "    fully_connected_b.append(conn.iloc[0, 1])\n",
    "    fully_connected_a.append(conn.iloc[0, 2])\n",
    "    cases_df.append(case)\n",
    "    \n",
    "dct['layer30_before'] = layer30_b\n",
    "dct['layer30_after'] = layer30_a\n",
    "dct['layer11_before'] = layer11_b\n",
    "dct['layer11_after'] = layer11_a\n",
    "dct['fully_before'] = fully_connected_b\n",
    "dct['fully_after'] = fully_connected_a"
   ]
  },
  {
   "cell_type": "code",
   "execution_count": 3,
   "id": "f1c37e75",
   "metadata": {},
   "outputs": [],
   "source": [
    "df = pd.DataFrame(data=dct, index=cases)\n",
    "df.to_excel('data.xlsx')"
   ]
  }
 ],
 "metadata": {
  "kernelspec": {
   "display_name": "Python (thesis)",
   "language": "python",
   "name": "venv"
  },
  "language_info": {
   "codemirror_mode": {
    "name": "ipython",
    "version": 3
   },
   "file_extension": ".py",
   "mimetype": "text/x-python",
   "name": "python",
   "nbconvert_exporter": "python",
   "pygments_lexer": "ipython3",
   "version": "3.9.10"
  }
 },
 "nbformat": 4,
 "nbformat_minor": 5
}
