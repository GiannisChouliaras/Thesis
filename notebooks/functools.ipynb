{
 "cells": [
  {
   "cell_type": "code",
   "execution_count": 1,
   "id": "eda27a21",
   "metadata": {},
   "outputs": [],
   "source": [
    "import os\n",
    "import glob\n",
    "import matplotlib.pylab as plt\n",
    "import matplotlib as mpl\n",
    "import numpy as np\n",
    "from torchvision import transforms\n",
    "import torch\n",
    "import cv2\n",
    "from skimage.io import imread\n",
    "from skimage.transform import resize\n",
    "from torch.utils.data import Dataset"
   ]
  },
  {
   "cell_type": "code",
   "execution_count": 2,
   "id": "e50f9cdb",
   "metadata": {},
   "outputs": [],
   "source": [
    "class Cases:\n",
    "    \n",
    "    def __init__(self, path='../data/preprocess/'):\n",
    "        self.path = path\n",
    "        self.cases = [f.path[19:] for f in os.scandir(path) if f.is_dir()]\n",
    "        self.before_dict = self._fill_dicts()\n",
    "        self.after_dict = self._fill_dicts(kind='AFTER')\n",
    "        \n",
    "    def _fill_dicts(self, kind='BEFORE') -> dict:\n",
    "        cdict = {}\n",
    "        for case in self.cases:\n",
    "            lst = [imread(file) for file in glob.glob(self.path + case + \"/\" + kind + \"/*.JPG\")]\n",
    "            cdict[case] = lst\n",
    "        return cdict\n",
    "            \n",
    "    @property\n",
    "    def before(self) -> dict:\n",
    "        return self.before_dict\n",
    "    \n",
    "    @property\n",
    "    def after(self) -> dict:\n",
    "        return self.after_dict\n",
    "    \n",
    "    def get_array(self) -> np.ndarray:\n",
    "        lst = []\n",
    "        for case in self.cases:\n",
    "            lst += [file for file in glob.glob(self.path + case + \"/BEFORE/*.JPG\")]\n",
    "            lst += [file for file in glob.glob(self.path + case + \"/AFTER/*.JPG\")]\n",
    "        return lst\n",
    "    \n",
    "class Data(Dataset):\n",
    "    \n",
    "    def __init__(self, data, transform = None):\n",
    "        self.data = data\n",
    "        self.transform = transform\n",
    "        \n",
    "    def __len__(self):\n",
    "        return len(self.data)\n",
    "    \n",
    "    def __getitem__(self, idx):\n",
    "        image = cv2.imread(self.data[idx], cv2.COLOR_BGR2RGB)\n",
    "      \n",
    "        # augmentations\n",
    "        if self.transform is not None:\n",
    "            image = self.transform(image = image)['image']\n",
    "        \n",
    "        return image"
   ]
  }
 ],
 "metadata": {
  "kernelspec": {
   "display_name": "Python (thesis)",
   "language": "python",
   "name": "venv"
  },
  "language_info": {
   "codemirror_mode": {
    "name": "ipython",
    "version": 3
   },
   "file_extension": ".py",
   "mimetype": "text/x-python",
   "name": "python",
   "nbconvert_exporter": "python",
   "pygments_lexer": "ipython3",
   "version": "3.9.10"
  }
 },
 "nbformat": 4,
 "nbformat_minor": 5
}
