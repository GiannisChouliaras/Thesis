{
 "cells": [
  {
   "cell_type": "code",
   "execution_count": 1,
   "id": "eda27a21",
   "metadata": {},
   "outputs": [],
   "source": [
    "import os\n",
    "import glob\n",
    "import matplotlib.pylab as plt\n",
    "import matplotlib as mpl\n",
    "import numpy as np\n",
    "from skimage.io import imread"
   ]
  },
  {
   "cell_type": "code",
   "execution_count": 2,
   "id": "e50f9cdb",
   "metadata": {},
   "outputs": [],
   "source": [
    "class Cases:\n",
    "    \n",
    "    def __init__(self, path='../data/preprocess/'):\n",
    "        self.path = path\n",
    "        self.cases = [f.path[19:] for f in os.scandir(path) if f.is_dir()]\n",
    "        self.before_dict = self._fill_dicts()\n",
    "        self.after_dict = self._fill_dicts(kind='AFTER')\n",
    "        \n",
    "    def _fill_dicts(self, kind='BEFORE') -> dict:\n",
    "        cdict = {}\n",
    "        for case in self.cases:\n",
    "            lst = [imread(file) for file in glob.glob(self.path + case + \"/\" + kind + \"/*.JPG\")]\n",
    "            cdict[case] = lst\n",
    "        return cdict\n",
    "            \n",
    "    @property\n",
    "    def before(self) -> dict:\n",
    "        return self.before_dict\n",
    "    \n",
    "    @property\n",
    "    def after(self) -> dict:\n",
    "        return self.after_dict"
   ]
  },
  {
   "cell_type": "code",
   "execution_count": null,
   "id": "8d3e4ca8",
   "metadata": {},
   "outputs": [],
   "source": []
  }
 ],
 "metadata": {
  "kernelspec": {
   "display_name": "Python (thesis)",
   "language": "python",
   "name": "venv"
  },
  "language_info": {
   "codemirror_mode": {
    "name": "ipython",
    "version": 3
   },
   "file_extension": ".py",
   "mimetype": "text/x-python",
   "name": "python",
   "nbconvert_exporter": "python",
   "pygments_lexer": "ipython3",
   "version": "3.9.10"
  }
 },
 "nbformat": 4,
 "nbformat_minor": 5
}
