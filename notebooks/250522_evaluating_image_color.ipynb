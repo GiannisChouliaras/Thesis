{
 "cells": [
  {
   "cell_type": "markdown",
   "id": "6e5c782b",
   "metadata": {},
   "source": [
    "# Calculating Images Color difference\n",
    "\n",
    "Using [slic](https://pyimagesearch.com/2014/07/28/a-slic-superpixel-tutorial-using-python/) segmentation calculate the [delta_E](https://www.viewsonic.com/library/creative-work/what-is-delta-e-and-why-is-it-important-for-color-accuracy/#:~:text=As%20a%20whole%2C%20the%20term,and%20100%20indicates%20complete%20distortion)"
   ]
  },
  {
   "cell_type": "code",
   "execution_count": 1,
   "id": "ae45b7d5",
   "metadata": {},
   "outputs": [],
   "source": [
    "import cv2 as cv\n",
    "import glob\n",
    "import os\n",
    "import PIL\n",
    "import colour\n",
    "import math\n",
    "import numpy as np\n",
    "import matplotlib.pylab as plt\n",
    "\n",
    "from PIL import Image\n",
    "from typing import Callable, Tuple\n",
    "from skimage.io import imread, imshow\n",
    "from skimage.segmentation import slic\n",
    "from skimage.color import label2rgb\n",
    "from skimage.metrics import structural_similarity\n",
    "\n",
    "%matplotlib inline"
   ]
  },
  {
   "cell_type": "code",
   "execution_count": 2,
   "id": "ef468675",
   "metadata": {},
   "outputs": [],
   "source": [
    "# path for the folder that contains the images\n",
    "path = \"../data/preprocess/\"\n",
    "cases = [f.path[19:] for f in os.scandir(path) if f.is_dir()]\n",
    "\n",
    "# function to open images and return them as a list\n",
    "def open_images(path: str, case: str, circumstance: str) -> list:\n",
    "    lst = []\n",
    "    for filename in glob.glob(path + case + \"/\" + circumstance + \"/*.JPG\"):\n",
    "        lst.append(imread(filename))\n",
    "    return lst\n",
    "\n",
    "def segmentation(img) -> np.ndarray:\n",
    "    '''perform segmentation with slic'''\n",
    "    image_slic = slic(image=img, n_segments=10, compactness=20)\n",
    "    return label2rgb(image_slic, img, kind='avg')\n",
    "\n",
    "def Average(lst):\n",
    "    return sum(lst) / len(lst)\n",
    "\n",
    "def compare_hist(lst: list, method: Callable) -> float:\n",
    "    '''Given a list of histograms, compare them with the desired method and return the average value'''\n",
    "    A, B, C = lst\n",
    "    histB = cv.compareHist(A, B, method)\n",
    "    histC = cv.compareHist(A, C, method)\n",
    "    return Average([histB, histC])\n",
    "\n",
    "def convert_number(number: float, range1: Tuple, range2: Tuple) -> int:\n",
    "    (a, b), (c, d) = range1, range2\n",
    "    return (c + d) - round(c + (d - c / b - a) * (number - a))\n"
   ]
  },
  {
   "cell_type": "code",
   "execution_count": 3,
   "id": "c0da0e4e",
   "metadata": {},
   "outputs": [],
   "source": [
    "images_before_treatment = open_images(path=path, case='CASE18', circumstance=\"AFTER\")\n",
    "segmented_images = [segmentation(img) for img in images_before_treatment]"
   ]
  },
  {
   "cell_type": "code",
   "execution_count": 4,
   "id": "1e9dc863",
   "metadata": {},
   "outputs": [
    {
     "data": {
      "image/png": "[encoded data removed]",
      "text/plain": [
       "<Figure size 432x288 with 3 Axes>"
      ]
     },
     "metadata": {
      "needs_background": "light"
     },
     "output_type": "display_data"
    }
   ],
   "source": [
    "plt.subplot(1, 3, 1)\n",
    "plt.imshow(segmented_images[0])\n",
    "plt.subplot(1, 3, 2)\n",
    "plt.imshow(segmented_images[1])\n",
    "plt.subplot(1, 3, 3)\n",
    "plt.imshow(segmented_images[2])\n",
    "plt.show()"
   ]
  },
  {
   "cell_type": "code",
   "execution_count": 5,
   "id": "aea05c39",
   "metadata": {},
   "outputs": [
    {
     "name": "stdout",
     "output_type": "stream",
     "text": [
      "first pair: 10.900578805931541\n",
      "second pair: 13.291579214554842\n"
     ]
    }
   ],
   "source": [
    "image1_lab = cv.cvtColor(segmented_images[0].astype(np.float32) / 255, cv.COLOR_RGB2Lab)\n",
    "image2_lab = cv.cvtColor(segmented_images[1].astype(np.float32) / 255, cv.COLOR_RGB2Lab)\n",
    "image3_lab = cv.cvtColor(segmented_images[2].astype(np.float32) / 255, cv.COLOR_RGB2Lab)\n",
    "\n",
    "delta_E1 = colour.delta_E(image1_lab, image2_lab)\n",
    "delta_E2 = colour.delta_E(image1_lab, image3_lab)\n",
    "\n",
    "print(f'first pair: {np.max(delta_E1)}')\n",
    "print(f'second pair: {np.max(delta_E2)}')"
   ]
  },
  {
   "cell_type": "code",
   "execution_count": null,
   "id": "0770289b",
   "metadata": {},
   "outputs": [],
   "source": []
  }
 ],
 "metadata": {
  "kernelspec": {
   "display_name": "Python (thesis)",
   "language": "python",
   "name": "venv"
  },
  "language_info": {
   "codemirror_mode": {
    "name": "ipython",
    "version": 3
   },
   "file_extension": ".py",
   "mimetype": "text/x-python",
   "name": "python",
   "nbconvert_exporter": "python",
   "pygments_lexer": "ipython3",
   "version": "3.9.10"
  }
 },
 "nbformat": 4,
 "nbformat_minor": 5
}
