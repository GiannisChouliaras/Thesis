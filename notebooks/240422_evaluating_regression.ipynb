{
 "cells": [
  {
   "cell_type": "markdown",
   "id": "b3b23ab9",
   "metadata": {},
   "source": [
    "# Evaluating the results of the regression\n",
    "\n",
    "using the metrics:\n",
    "- [explained variance score](https://scikit-learn.org/stable/modules/model_evaluation.html#explained-variance-score)\n",
    "- [R2 score](https://scikit-learn.org/stable/modules/generated/sklearn.metrics.r2_score.html#sklearn.metrics.r2_score)\n",
    "- [mean absolute percentage error](https://scikit-learn.org/stable/modules/generated/sklearn.metrics.mean_absolute_percentage_error.html#sklearn.metrics.mean_absolute_percentage_error)"
   ]
  },
  {
   "cell_type": "code",
   "execution_count": 16,
   "id": "21b8ddf3",
   "metadata": {},
   "outputs": [],
   "source": [
    "from sklearn.metrics import explained_variance_score as exp_var, r2_score as r2, mean_absolute_percentage_error as mape\n",
    "from sklearn.metrics import mean_poisson_deviance as mpd"
   ]
  },
  {
   "cell_type": "code",
   "execution_count": 17,
   "id": "1e812bf3",
   "metadata": {},
   "outputs": [],
   "source": [
    "y_true = [7, 6, 5, 8, 7, 6, 6, 8, 5, 6, 5, 6, 3, 8, 7, 6, 6, 4, 8, 8, 3, 4, 7, 8, 7, 4, 6, 6, 2, 3, 3, 4, 4, 2, 6, 2, 2, 4, 2, 2, 4, 3, 3, 2, 3, 2, 2, 2, 2, 3, 5, 3, 3, 4]\n",
    "y_svr = [5, 4, 4, 8, 7, 5, 6, 8, 3, 4, 5, 5, 2, 6, 6, 5, 5, 3, 7, 7, 2, 3, 5, 7, 7, 5, 7, 3, 2, 4, 3, 2, 3, 2, 5, 2, 3, 2, 2, 2, 4, 2, 3, 2, 2, 4, 2, 2, 2, 2, 6, 4, 4, 2]\n",
    "y_nn = [5, 4, 4, 8, 7, 6, 6, 8, 3, 5, 6, 5, 3, 6, 7, 5, 5, 3, 7, 7, 2, 4, 5, 7, 7, 5, 7, 4, 2, 4, 4, 3, 4, 2, 6, 2, 3, 2, 2, 2, 4, 3, 3, 2, 3, 4, 2, 2, 2, 2, 7, 4, 4, 3]"
   ]
  },
  {
   "cell_type": "code",
   "execution_count": 18,
   "id": "05170263",
   "metadata": {},
   "outputs": [
    {
     "name": "stdout",
     "output_type": "stream",
     "text": [
      "SVM as Regressor\n",
      "var score:\t0.741\n",
      "R2 score:\t0.665\n",
      "mape score:\t0.203\n",
      "mpd score:\t0.363\n"
     ]
    }
   ],
   "source": [
    "print('SVM as Regressor')\n",
    "print(f'var score:\\t{exp_var(y_true, y_svr):.3f}')\n",
    "print(f'R2 score:\\t{r2(y_true, y_svr):.3f}')\n",
    "print(f'mape score:\\t{mape(y_true, y_svr):.3f}')\n",
    "print(f'mpd score:\\t{mpd(y_true, y_svr):.3f}')"
   ]
  },
  {
   "cell_type": "code",
   "execution_count": 19,
   "id": "4475db09",
   "metadata": {},
   "outputs": [
    {
     "name": "stdout",
     "output_type": "stream",
     "text": [
      "Neural Network as Regressor\n",
      "var score:\t0.761\n",
      "R2 score:\t0.742\n",
      "mape score:\t0.165\n",
      "mpd score:\t0.249\n"
     ]
    }
   ],
   "source": [
    "print('Neural Network as Regressor')\n",
    "print(f'var score:\\t{exp_var(y_true, y_nn):.3f}')\n",
    "print(f'R2 score:\\t{r2(y_true, y_nn):.3f}')\n",
    "print(f'mape score:\\t{mape(y_true, y_nn):.3f}')\n",
    "print(f'mpd score:\\t{mpd(y_true, y_nn):.3f}')"
   ]
  },
  {
   "cell_type": "code",
   "execution_count": null,
   "id": "753bcc72",
   "metadata": {},
   "outputs": [],
   "source": []
  }
 ],
 "metadata": {
  "kernelspec": {
   "display_name": "Python (thesis)",
   "language": "python",
   "name": "venv"
  },
  "language_info": {
   "codemirror_mode": {
    "name": "ipython",
    "version": 3
   },
   "file_extension": ".py",
   "mimetype": "text/x-python",
   "name": "python",
   "nbconvert_exporter": "python",
   "pygments_lexer": "ipython3",
   "version": "3.9.10"
  }
 },
 "nbformat": 4,
 "nbformat_minor": 5
}
