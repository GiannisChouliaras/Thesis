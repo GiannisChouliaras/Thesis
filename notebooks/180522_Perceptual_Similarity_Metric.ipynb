{
 "cells": [
  {
   "cell_type": "markdown",
   "id": "4aa7d9a9",
   "metadata": {},
   "source": [
    "# Perceptual Similarity Metric"
   ]
  },
  {
   "cell_type": "code",
   "execution_count": 1,
   "id": "423e603b",
   "metadata": {},
   "outputs": [],
   "source": [
    "import lpips\n",
    "import torch\n",
    "import numpy as np\n",
    "import albumentations as A\n",
    "\n",
    "from torch.utils.data import DataLoader\n",
    "from ipynb.fs.full.functools import Cases, Data\n",
    "from albumentations.pytorch import ToTensorV2"
   ]
  },
  {
   "cell_type": "code",
   "execution_count": 2,
   "id": "905d2273",
   "metadata": {},
   "outputs": [
    {
     "name": "stdout",
     "output_type": "stream",
     "text": [
      "Setting up [LPIPS] perceptual loss: trunk [vgg], v[0.1], spatial [off]\n",
      "Loading model from: C:\\Users\\giann\\Documents\\Thesis\\venv\\lib\\site-packages\\lpips\\weights\\v0.1\\vgg.pth\n"
     ]
    }
   ],
   "source": [
    "loss_fn_vgg = lpips.LPIPS(net='vgg')\n",
    "\n",
    "img0 = torch.zeros(1,3,64,64) # image should be RGB, IMPORTANT: normalized to [-1,1]\n",
    "img1 = torch.zeros(1,3,64,64)\n",
    "d = loss_fn_vgg(img0, img1)"
   ]
  },
  {
   "cell_type": "code",
   "execution_count": 3,
   "id": "bc570925",
   "metadata": {},
   "outputs": [
    {
     "name": "stdout",
     "output_type": "stream",
     "text": [
      "234\n"
     ]
    }
   ],
   "source": [
    "image_size = 224\n",
    "\n",
    "cases = Cases()\n",
    "data = cases.get_array()\n",
    "\n",
    "augs = A.Compose(\n",
    "    [\n",
    "        A.Resize(height=image_size, width=image_size),\n",
    "        A.Normalize(mean=(0.4247, 0.4662, 0.6567), std=(0.1296, 0.1301, 0.1386)),\n",
    "        ToTensorV2()\n",
    "    ])\n",
    "\n",
    "# dataset\n",
    "image_dataset = Data(data=data, transform=augs)\n",
    "\n",
    "image_loader = DataLoader(image_dataset, \n",
    "                          batch_size  = 234,\n",
    "                          shuffle     = False, \n",
    "                          num_workers = 0,\n",
    "                          pin_memory  = True)"
   ]
  },
  {
   "cell_type": "code",
   "execution_count": null,
   "id": "2722899d",
   "metadata": {},
   "outputs": [],
   "source": []
  }
 ],
 "metadata": {
  "kernelspec": {
   "display_name": "Python (thesis)",
   "language": "python",
   "name": "venv"
  },
  "language_info": {
   "codemirror_mode": {
    "name": "ipython",
    "version": 3
   },
   "file_extension": ".py",
   "mimetype": "text/x-python",
   "name": "python",
   "nbconvert_exporter": "python",
   "pygments_lexer": "ipython3",
   "version": "3.9.10"
  }
 },
 "nbformat": 4,
 "nbformat_minor": 5
}
